{
 "cells": [
  {
   "cell_type": "code",
   "execution_count": 17,
   "id": "ce88c77a-5e5f-4766-b28c-7efd2f017ba6",
   "metadata": {},
   "outputs": [],
   "source": [
    "#%pip install strawberryfields --upgrade\n",
    "import numpy as np\n",
    "import strawberryfields as sf\n",
    "import matplotlib.pyplot as plt\n",
    "import time\n",
    "from strawberryfields import RemoteEngine\n",
    "from strawberryfields.ops import *\n",
    "from random import shuffle\n",
    "from random import seed\n",
    "from collections import OrderedDict"
   ]
  },
  {
   "cell_type": "code",
   "execution_count": 18,
   "id": "c6c52705-7f42-42cb-9245-8d228a7adda0",
   "metadata": {},
   "outputs": [
    {
     "name": "stdout",
     "output_type": "stream",
     "text": [
      "The execution time for Boson Samplers is : 25.476024866104126\n"
     ]
    }
   ],
   "source": [
    "start_BS_Time = time.time()\n",
    "\n",
    "#We create an 4-mode quantum program\n",
    "boson_sampling = sf.Program(4) \n",
    "\n",
    "with boson_sampling.context as q:\n",
    "    # prepare the input fock states\n",
    "    Fock(1) | q[0]\n",
    "    Fock(1) | q[1]\n",
    "    Fock(1) | q[2]\n",
    "    Vac     | q[3]\n",
    "    \n",
    "    # rotation gates\n",
    "    Rgate(0.5719)  | q[0]\n",
    "    Rgate(-1.9782) | q[1]\n",
    "    Rgate(2.0603)  | q[2]\n",
    "    Rgate(0.0644)  | q[3]\n",
    "\n",
    "    # beamsplitter array\n",
    "    BSgate(0.7804, 0.8578)  | (q[0], q[1])\n",
    "    BSgate(0.06406, 0.5165) | (q[2], q[3])\n",
    "    BSgate(0.473, 0.1176)   | (q[1], q[2])\n",
    "    BSgate(0.563, 0.1517)   | (q[0], q[1])\n",
    "    BSgate(0.1323, 0.9946)  | (q[2], q[3])\n",
    "    BSgate(0.311, 0.3231)   | (q[1], q[2])\n",
    "    BSgate(0.4348, 0.0798)  | (q[0], q[1])\n",
    "    BSgate(0.4368, 0.6157)  | (q[2], q[3])\n",
    "    \n",
    "eng = sf.Engine(backend=\"fock\", backend_options={\"cutoff_dim\": 7})\n",
    "#eng = sf.RemoteEngine(\"X8\", backend_options={\"cutoff_dim\": 7})\n",
    "\n",
    "# We can now execute the program with the engine:\n",
    "results = eng.run(boson_sampling, shots=400000)\n",
    "\n",
    "# extract the joint Fock probabilities\n",
    "probs = results.state.all_fock_probs()\n",
    "#probs1 = results.state\n",
    "\n",
    "#Calculate Time of Boson Samplers\n",
    "end_BS_Time = time.time()\n",
    "my_BS_Time = end_BS_Time - start_BS_Time\n",
    "print(\"The execution time for Boson Samplers is :\", my_BS_Time)\n"
   ]
  },
  {
   "cell_type": "code",
   "execution_count": 19,
   "id": "dfc26a2b-35f4-4e50-a5f0-1d1aa44aa25e",
   "metadata": {},
   "outputs": [
    {
     "name": "stdout",
     "output_type": "stream",
     "text": [
      "|0003>: 0.0036948559765504515\n",
      "|0012>: 0.027129675723311982\n",
      "|0021>: 0.06502962145115693\n",
      "|0030>: 0.050733771611210274\n",
      "|0102>: 0.002602727441190584\n",
      "|0111>: 0.01107027525231426\n",
      "|0120>: 0.010862085413282391\n",
      "|0201>: 0.0351637098808715\n",
      "|0210>: 0.04193914564650369\n",
      "|0300>: 0.15646928742727867\n",
      "|1002>: 0.01309808123756603\n",
      "|1011>: 0.05586339993711769\n",
      "|1020>: 0.0546071093851579\n",
      "|1101>: 0.04560721169037526\n",
      "|1110>: 0.0960897483373251\n",
      "|1200>: 0.031975838515474565\n",
      "|2001>: 0.01551113755004046\n",
      "|2010>: 0.03593096091241705\n",
      "|2100>: 0.14212284572564468\n",
      "|3000>: 0.10449851088521031\n"
     ]
    },
    {
     "data": {
      "image/png": "[encoded data removed]",
      "text/plain": [
       "<Figure size 1152x576 with 1 Axes>"
      ]
     },
     "metadata": {
      "needs_background": "light"
     },
     "output_type": "display_data"
    }
   ],
   "source": [
    "our_Probs = []\n",
    "my_Modes = []\n",
    "my_Modes2 = []\n",
    "\n",
    "#find the all probs that not 0\n",
    "for i in range(0,4):\n",
    "    for j in range(0,4):\n",
    "        for k in range(0,4):\n",
    "            for l in range(0,4):\n",
    "                if probs[i, j, k, l] != 0:\n",
    "                    our_Probs.append(probs[i, j, k, l])\n",
    "                    my_Modes.append(\"|\" + str(i) +  str(j) +  str(k) +  str(l) + \">\")\n",
    "                    print(my_Modes[-1] + \":\", probs[i, j, k, l])\n",
    "                    my_Modes2.append(str(i) + str(j) + str(k) + str(l))\n",
    "\n",
    "fig = plt.figure(figsize=(16,8))                    \n",
    "plt.bar(my_Modes, our_Probs)\n",
    "fig.autofmt_xdate()\n",
    "plt.show()\n"
   ]
  },
  {
   "cell_type": "code",
   "execution_count": 20,
   "id": "014d0c77-5925-47da-8b30-22d048a68013",
   "metadata": {},
   "outputs": [
    {
     "name": "stdout",
     "output_type": "stream",
     "text": [
      "The time of execution of Von-Nuemann is : 0.006009817123413086\n",
      "Total execution time is : 25.48203468322754\n"
     ]
    }
   ],
   "source": [
    "start_My_VonNuemann_Time = time.time()\n",
    "\n",
    "#Von-Nuemann Algorithm\n",
    "code = ''\n",
    "S1 = []\n",
    "S2 = []\n",
    "modes = my_Modes2\n",
    "for k in range(len(modes)):\n",
    "    for i in range(len(modes)):\n",
    "        if i != (len(modes)-1):\n",
    "            S1.append((modes[k]))\n",
    "            S2.append((modes[i]))\n",
    "        for j in range(len(modes[k])):\n",
    "            if i == (len(modes)-1):\n",
    "                break\n",
    "            if (int(modes[k][j]) == 0) & (int(modes[i][j]) == 0):\n",
    "                if j == 3:\n",
    "                    code = code + (\"/\")\n",
    "                    #print('code is: ', code)\n",
    "                    break\n",
    "            elif (int(modes[k][j]) == 0) & (int(modes[i][j]) != 0):\n",
    "                code = code + '1'\n",
    "                if j == 3:\n",
    "                    code = code + (\"/\")\n",
    "                    #print('code is: ', code)\n",
    "                    break\n",
    "            elif (int(modes[k][j]) != 0) & (int(modes[i][j]) == 0):\n",
    "                code = code + '0'\n",
    "                if j == 3:\n",
    "                    code = code + (\"/\")\n",
    "                    #print('code is: ', code)\n",
    "                    break\n",
    "            elif (int(modes[k][j]) != 0) & (int(modes[i][j]) != 0):\n",
    "                if j == 3:\n",
    "                    code = code + (\"/\")\n",
    "                    #print('code is: ', code)\n",
    "                    break\n",
    "\n",
    "#we have shown (the states that don't generate code) with \"/\", then we split them by \"/\".\n",
    "final_String = code.split(\"/\")\n",
    "#Remove empty strings from final String.\n",
    "final_String[:] = [x for x in final_String if x]\n",
    "#We count final String to get the probability of repeating them.\n",
    "res = {}\n",
    "for i in final_String:\n",
    "    res[i] = final_String.count(i)\n",
    "\n",
    "#Calculate Time of Von-Nuemann Algorithm\n",
    "end_My_VonNuemann_Time = time.time()\n",
    "my_VonNuemann_Time = end_My_VonNuemann_Time - start_My_VonNuemann_Time\n",
    "\n",
    "print(\"The time of execution of Von-Nuemann is :\", my_VonNuemann_Time)\n",
    "print(\"Total execution time is :\", my_BS_Time + my_VonNuemann_Time)\n"
   ]
  },
  {
   "cell_type": "code",
   "execution_count": 21,
   "id": "ba3b334d",
   "metadata": {},
   "outputs": [],
   "source": [
    "#We prepare Final String and find the probability\n",
    "def prepareData(res):\n",
    "    rn = list(res.keys())\n",
    "    count_Of_No = list(res.values())\n",
    "    probabilities = count_Of_No\n",
    "    sum_No = 0\n",
    "    for e in range(len(count_Of_No)):\n",
    "        sum_No = sum_No + count_Of_No[e]\n",
    "\n",
    "    for e in range(len(count_Of_No)):\n",
    "        probabilities[e] = count_Of_No[e]/sum_No\n",
    "    return (rn, probabilities)\n"
   ]
  },
  {
   "cell_type": "code",
   "execution_count": 22,
   "id": "1b819bdf-f95e-497d-a295-1a4fac5d2395",
   "metadata": {},
   "outputs": [
    {
     "data": {
      "image/png": "[encoded data removed]",
      "text/plain": [
       "<Figure size 1152x576 with 1 Axes>"
      ]
     },
     "metadata": {
      "needs_background": "light"
     },
     "output_type": "display_data"
    }
   ],
   "source": [
    "#We find the probability of any finalString.\n",
    "my_Final_String, probabilities = prepareData(res)\n",
    "fig = plt.figure(figsize=(16, 8))\n",
    "plt.bar(range(len(res)), probabilities, tick_label=my_Final_String)\n",
    "fig.autofmt_xdate()\n",
    "plt.show()\n"
   ]
  },
  {
   "cell_type": "code",
   "execution_count": 23,
   "id": "35e4fc1c",
   "metadata": {},
   "outputs": [],
   "source": [
    "# Creates a sorted dictionary (sorted by key)\n",
    "def dictSorter(res):\n",
    "    sorted_Res = dict(\n",
    "        sorted(res.items(), key=lambda item: item[1], reverse=True))\n",
    "    return sorted_Res\n"
   ]
  },
  {
   "cell_type": "code",
   "execution_count": 24,
   "id": "62c94dbe",
   "metadata": {},
   "outputs": [
    {
     "data": {
      "image/png": "[encoded data removed]",
      "text/plain": [
       "<Figure size 1152x576 with 1 Axes>"
      ]
     },
     "metadata": {
      "needs_background": "light"
     },
     "output_type": "display_data"
    }
   ],
   "source": [
    "#We sorted them according to the obtained probability and then merged them together to get the final RandomNumber.\n",
    "sorted_Res = dictSorter(res)\n",
    "my_Final_String, probabilities = prepareData(sorted_Res)\n",
    "\n",
    "fig = plt.figure(figsize=(16, 8))\n",
    "plt.bar(range(len(sorted_Res)), probabilities, tick_label=my_Final_String)\n",
    "fig.autofmt_xdate()\n",
    "plt.show()\n"
   ]
  },
  {
   "cell_type": "code",
   "execution_count": 25,
   "id": "ad1b0e5c",
   "metadata": {},
   "outputs": [],
   "source": [
    "#We convert string to integer to create bits!\n",
    "def strToInt(list_Of_String):\n",
    "    str1 = ''\n",
    "    my_List = []\n",
    "    for i in range(len(list_Of_String)):\n",
    "        str1 = str1 + list_Of_String[i]\n",
    "    my_List = [int(i) for i in str1]\n",
    "    return my_List\n"
   ]
  },
  {
   "cell_type": "code",
   "execution_count": 29,
   "id": "347e37d7",
   "metadata": {},
   "outputs": [
    {
     "name": "stdout",
     "output_type": "stream",
     "text": [
      "[0, 1, 1, 0, 1, 0, 1, 1, 0, 1, 0, 1, 0, 1, 0, 0, 0, 1, 0, 1, 1, 1, 1, 1, 0, 0, 0, 0, 1, 1, 0, 0, 1, 0, 1, 0, 1, 0, 0, 1, 0, 1, 1, 0, 0, 1, 0, 1, 0, 0, 1, 1, 1, 1, 1, 0, 1, 1, 0, 1, 1, 0, 1, 1, 0, 1, 0, 0, 0, 0, 1, 0, 0, 0, 0, 1, 0, 1, 1, 1]\n"
     ]
    }
   ],
   "source": [
    "#my_Random_Number = final_String\n",
    "my_Bits = strToInt(my_Final_String)\n",
    "print(my_Bits)\n"
   ]
  },
  {
   "cell_type": "code",
   "execution_count": 32,
   "metadata": {},
   "outputs": [
    {
     "name": "stdout",
     "output_type": "stream",
     "text": [
      "S1:\n",
      " ['0003', '0003', '0003', '0003', '0003', '0003', '0003', '0003', '0003', '0003', '0003', '0003', '0003', '0003', '0003', '0003', '0003', '0003', '0003', '0012', '0012', '0012', '0012', '0012', '0012', '0012', '0012', '0012', '0012', '0012', '0012', '0012', '0012', '0012', '0012', '0012', '0012', '0012', '0021', '0021', '0021', '0021', '0021', '0021', '0021', '0021', '0021', '0021', '0021', '0021', '0021', '0021', '0021', '0021', '0021', '0021', '0021', '0030', '0030', '0030', '0030', '0030', '0030', '0030', '0030', '0030', '0030', '0030', '0030', '0030', '0030', '0030', '0030', '0030', '0030', '0030', '0102', '0102', '0102', '0102', '0102', '0102', '0102', '0102', '0102', '0102', '0102', '0102', '0102', '0102', '0102', '0102', '0102', '0102', '0102', '0111', '0111', '0111', '0111', '0111', '0111', '0111', '0111', '0111', '0111', '0111', '0111', '0111', '0111', '0111', '0111', '0111', '0111', '0111', '0120', '0120', '0120', '0120', '0120', '0120', '0120', '0120', '0120', '0120', '0120', '0120', '0120', '0120', '0120', '0120', '0120', '0120', '0120', '0201', '0201', '0201', '0201', '0201', '0201', '0201', '0201', '0201', '0201', '0201', '0201', '0201', '0201', '0201', '0201', '0201', '0201', '0201', '0210', '0210', '0210', '0210', '0210', '0210', '0210', '0210', '0210', '0210', '0210', '0210', '0210', '0210', '0210', '0210', '0210', '0210', '0210', '0300', '0300', '0300', '0300', '0300', '0300', '0300', '0300', '0300', '0300', '0300', '0300', '0300', '0300', '0300', '0300', '0300', '0300', '0300', '1002', '1002', '1002', '1002', '1002', '1002', '1002', '1002', '1002', '1002', '1002', '1002', '1002', '1002', '1002', '1002', '1002', '1002', '1002', '1011', '1011', '1011', '1011', '1011', '1011', '1011', '1011', '1011', '1011', '1011', '1011', '1011', '1011', '1011', '1011', '1011', '1011', '1011', '1020', '1020', '1020', '1020', '1020', '1020', '1020', '1020', '1020', '1020', '1020', '1020', '1020', '1020', '1020', '1020', '1020', '1020', '1020', '1101', '1101', '1101', '1101', '1101', '1101', '1101', '1101', '1101', '1101', '1101', '1101', '1101', '1101', '1101', '1101', '1101', '1101', '1101', '1110', '1110', '1110', '1110', '1110', '1110', '1110', '1110', '1110', '1110', '1110', '1110', '1110', '1110', '1110', '1110', '1110', '1110', '1110', '1200', '1200', '1200', '1200', '1200', '1200', '1200', '1200', '1200', '1200', '1200', '1200', '1200', '1200', '1200', '1200', '1200', '1200', '1200', '2001', '2001', '2001', '2001', '2001', '2001', '2001', '2001', '2001', '2001', '2001', '2001', '2001', '2001', '2001', '2001', '2001', '2001', '2001', '2010', '2010', '2010', '2010', '2010', '2010', '2010', '2010', '2010', '2010', '2010', '2010', '2010', '2010', '2010', '2010', '2010', '2010', '2010', '2100', '2100', '2100', '2100', '2100', '2100', '2100', '2100', '2100', '2100', '2100', '2100', '2100', '2100', '2100', '2100', '2100', '2100', '2100', '3000', '3000', '3000', '3000', '3000', '3000', '3000', '3000', '3000', '3000', '3000', '3000', '3000', '3000', '3000', '3000', '3000', '3000', '3000']\n",
      "\n",
      "\n",
      "S2:\n",
      " ['0003', '0012', '0021', '0030', '0102', '0111', '0120', '0201', '0210', '0300', '1002', '1011', '1020', '1101', '1110', '1200', '2001', '2010', '2100', '0003', '0012', '0021', '0030', '0102', '0111', '0120', '0201', '0210', '0300', '1002', '1011', '1020', '1101', '1110', '1200', '2001', '2010', '2100', '0003', '0012', '0021', '0030', '0102', '0111', '0120', '0201', '0210', '0300', '1002', '1011', '1020', '1101', '1110', '1200', '2001', '2010', '2100', '0003', '0012', '0021', '0030', '0102', '0111', '0120', '0201', '0210', '0300', '1002', '1011', '1020', '1101', '1110', '1200', '2001', '2010', '2100', '0003', '0012', '0021', '0030', '0102', '0111', '0120', '0201', '0210', '0300', '1002', '1011', '1020', '1101', '1110', '1200', '2001', '2010', '2100', '0003', '0012', '0021', '0030', '0102', '0111', '0120', '0201', '0210', '0300', '1002', '1011', '1020', '1101', '1110', '1200', '2001', '2010', '2100', '0003', '0012', '0021', '0030', '0102', '0111', '0120', '0201', '0210', '0300', '1002', '1011', '1020', '1101', '1110', '1200', '2001', '2010', '2100', '0003', '0012', '0021', '0030', '0102', '0111', '0120', '0201', '0210', '0300', '1002', '1011', '1020', '1101', '1110', '1200', '2001', '2010', '2100', '0003', '0012', '0021', '0030', '0102', '0111', '0120', '0201', '0210', '0300', '1002', '1011', '1020', '1101', '1110', '1200', '2001', '2010', '2100', '0003', '0012', '0021', '0030', '0102', '0111', '0120', '0201', '0210', '0300', '1002', '1011', '1020', '1101', '1110', '1200', '2001', '2010', '2100', '0003', '0012', '0021', '0030', '0102', '0111', '0120', '0201', '0210', '0300', '1002', '1011', '1020', '1101', '1110', '1200', '2001', '2010', '2100', '0003', '0012', '0021', '0030', '0102', '0111', '0120', '0201', '0210', '0300', '1002', '1011', '1020', '1101', '1110', '1200', '2001', '2010', '2100', '0003', '0012', '0021', '0030', '0102', '0111', '0120', '0201', '0210', '0300', '1002', '1011', '1020', '1101', '1110', '1200', '2001', '2010', '2100', '0003', '0012', '0021', '0030', '0102', '0111', '0120', '0201', '0210', '0300', '1002', '1011', '1020', '1101', '1110', '1200', '2001', '2010', '2100', '0003', '0012', '0021', '0030', '0102', '0111', '0120', '0201', '0210', '0300', '1002', '1011', '1020', '1101', '1110', '1200', '2001', '2010', '2100', '0003', '0012', '0021', '0030', '0102', '0111', '0120', '0201', '0210', '0300', '1002', '1011', '1020', '1101', '1110', '1200', '2001', '2010', '2100', '0003', '0012', '0021', '0030', '0102', '0111', '0120', '0201', '0210', '0300', '1002', '1011', '1020', '1101', '1110', '1200', '2001', '2010', '2100', '0003', '0012', '0021', '0030', '0102', '0111', '0120', '0201', '0210', '0300', '1002', '1011', '1020', '1101', '1110', '1200', '2001', '2010', '2100', '0003', '0012', '0021', '0030', '0102', '0111', '0120', '0201', '0210', '0300', '1002', '1011', '1020', '1101', '1110', '1200', '2001', '2010', '2100', '0003', '0012', '0021', '0030', '0102', '0111', '0120', '0201', '0210', '0300', '1002', '1011', '1020', '1101', '1110', '1200', '2001', '2010', '2100']\n",
      "\n",
      "\n",
      "coding:\n",
      " /1/1/10/1/11/110/1/110/10/1/11/110/11/1110/110/1/110/110/0///0/10/1/10/10/10/100/10/1/10/110/110/1100/10/10/1100/0///0/10/1/10/10/10/100/10/1/10/110/110/1100/10/10/1100/01/1/1//101/11/1/101/1/10/101/11/1/1101/11/110/101/1/110/0/01/01/010//1/10//10/0/10/101/1010/1/110/10/10/1010/10/00/0/0/00/0//0/0/0/00/100/10/100/10/10/100/100/100/100/001/01/01/0/01/1//01//0/1001/101/10/101/1/10/1001/10/10/0/01/01/010//1/10//10/0/10/101/1010/1/110/10/10/1010/10/001/01/01/0/01/1//01//0/1001/101/10/101/1/10/1001/10/10/01/011/011/01/1/11/1/1/1//101/1011/101/11/11/1/101/101/1/0/01/01/010/01/011/0110/01/0110/010//1/10/1/110/10//10/10/00/0/0/00/010/01/010/010/010/0100/0//0/10/10/100/0/0/100/001/01/01/0/0101/011/01/0101/01/010/01/1//101/1/10/01//10/00/001/001/0010/0/01/010/0/010/00/0/01/010//10/0/0/010/0/0001/001/001/00/001/01/0/001/0/00/001/01/0/01//0/001/0/0/001/0011/0011/001/01/011/01/01/01/0/01/011/01/1/1//01/01//0/01/01/010/01/011/0110/01/0110/010//1/10/1/110/10//10/10/001/01/01/0/0101/011/01/0101/01/010/01/1//101/1/10/01//10/001/0011/0011/001/01/011/01/01/01/0/01/011/01/1/1//01/01//01/011/011/01/011/0111/011/011/011/01/1/11/1/11/11/1/1/1/1/\n",
      "\n",
      "\n",
      "Final String:\n",
      " ['1', '1', '10', '1', '11', '110', '1', '110', '10', '1', '11', '110', '11', '1110', '110', '1', '110', '110', '0', '0', '10', '1', '10', '10', '10', '100', '10', '1', '10', '110', '110', '1100', '10', '10', '1100', '0', '0', '10', '1', '10', '10', '10', '100', '10', '1', '10', '110', '110', '1100', '10', '10', '1100', '01', '1', '1', '101', '11', '1', '101', '1', '10', '101', '11', '1', '1101', '11', '110', '101', '1', '110', '0', '01', '01', '010', '1', '10', '10', '0', '10', '101', '1010', '1', '110', '10', '10', '1010', '10', '00', '0', '0', '00', '0', '0', '0', '0', '00', '100', '10', '100', '10', '10', '100', '100', '100', '100', '001', '01', '01', '0', '01', '1', '01', '0', '1001', '101', '10', '101', '1', '10', '1001', '10', '10', '0', '01', '01', '010', '1', '10', '10', '0', '10', '101', '1010', '1', '110', '10', '10', '1010', '10', '001', '01', '01', '0', '01', '1', '01', '0', '1001', '101', '10', '101', '1', '10', '1001', '10', '10', '01', '011', '011', '01', '1', '11', '1', '1', '1', '101', '1011', '101', '11', '11', '1', '101', '101', '1', '0', '01', '01', '010', '01', '011', '0110', '01', '0110', '010', '1', '10', '1', '110', '10', '10', '10', '00', '0', '0', '00', '010', '01', '010', '010', '010', '0100', '0', '0', '10', '10', '100', '0', '0', '100', '001', '01', '01', '0', '0101', '011', '01', '0101', '01', '010', '01', '1', '101', '1', '10', '01', '10', '00', '001', '001', '0010', '0', '01', '010', '0', '010', '00', '0', '01', '010', '10', '0', '0', '010', '0', '0001', '001', '001', '00', '001', '01', '0', '001', '0', '00', '001', '01', '0', '01', '0', '001', '0', '0', '001', '0011', '0011', '001', '01', '011', '01', '01', '01', '0', '01', '011', '01', '1', '1', '01', '01', '0', '01', '01', '010', '01', '011', '0110', '01', '0110', '010', '1', '10', '1', '110', '10', '10', '10', '001', '01', '01', '0', '0101', '011', '01', '0101', '01', '010', '01', '1', '101', '1', '10', '01', '10', '001', '0011', '0011', '001', '01', '011', '01', '01', '01', '0', '01', '011', '01', '1', '1', '01', '01', '01', '011', '011', '01', '011', '0111', '011', '011', '011', '01', '1', '11', '1', '11', '11', '1', '1', '1', '1']\n",
      "\n",
      "\n",
      "count of every Strings:\n",
      " {'1': 48, '10': 57, '11': 12, '110': 16, '1110': 1, '0': 42, '100': 10, '1100': 4, '01': 60, '101': 16, '1101': 1, '010': 16, '1010': 4, '00': 9, '001': 16, '1001': 4, '011': 16, '1011': 1, '0110': 4, '0100': 1, '0101': 4, '0010': 1, '0001': 1, '0011': 4, '0111': 1}\n",
      "\n",
      "\n"
     ]
    }
   ],
   "source": [
    "print('S1:\\n', S1)\n",
    "print('\\n')\n",
    "print('S2:\\n', S2)\n",
    "print('\\n')\n",
    "print('coding:\\n', code)\n",
    "print('\\n')\n",
    "print('Final String:\\n', final_String)\n",
    "print('\\n')\n",
    "print('count of every Strings:\\n', res)\n",
    "print('\\n')\n",
    "#######################################\n",
    "input_Data = open('input_Data.txt', 'w')\n",
    "input_Data.write('S1:\\n')\n",
    "for s1 in range(len(S1)):\n",
    "    input_Data.write('[' + str(S1[s1]) + ']')\n",
    "input_Data.write('\\n\\n')\n",
    "input_Data.write('S2:\\n')\n",
    "for s2 in range(len(S2)):\n",
    "    input_Data.write('[' + str(S2[s2]) + ']')\n",
    "input_Data.write('\\n\\n')\n",
    "input_Data.write('coding:\\n')\n",
    "for c in range(len(code)):\n",
    "    input_Data.write(str(code[c]))\n",
    "input_Data.write('\\n\\n')\n",
    "input_Data.write('Final Strings:\\n')\n",
    "for fs in range(len(final_String)):\n",
    "    input_Data.write('[' + str(final_String[fs]) + ']')\n",
    "input_Data.close()\n",
    "#######################################\n",
    "output_File = open('QRN.txt', 'w')\n",
    "output_File.write('')\n",
    "\n",
    "# seed random number generator and shuffle final String\n",
    "#befor_Shuffle_RN = my_Random_Number\n",
    "#seed(1)\n",
    "#shuffle(befor_Shuffle_RN)\n",
    "#We convert string to integer to create bits!\n",
    "#my_Random_Number = strToInt(my_Bits)\n",
    "\n",
    "for b in range(len(my_Bits)):\n",
    "    output_File.write(str(my_Bits[b]))\n",
    "output_File.close()\n",
    "#######################################\n"
   ]
  },
  {
   "cell_type": "code",
   "execution_count": 34,
   "id": "adeff3e1",
   "metadata": {},
   "outputs": [
    {
     "name": "stdout",
     "output_type": "stream",
     "text": [
      "  n         =  80\n",
      "  m         =  2\n",
      "  Pattern 1 of 4, count = 15\n",
      "  Pattern 2 of 4, count = 24\n",
      "  Pattern 3 of 4, count = 24\n",
      "  Pattern 4 of 4, count = 17\n",
      "  phi(2)    = -3.667962\n",
      "  Pattern 1 of 8, count = 7\n",
      "  Pattern 2 of 8, count = 8\n",
      "  Pattern 3 of 8, count = 14\n",
      "  Pattern 4 of 8, count = 10\n",
      "  Pattern 5 of 8, count = 8\n",
      "  Pattern 6 of 8, count = 16\n",
      "  Pattern 7 of 8, count = 10\n",
      "  Pattern 8 of 8, count = 7\n",
      "  phi(2)    = -4.336190\n",
      "  AppEn(2)  = 0.668228\n",
      "  ChiSquare =  3.9870830131765267\n",
      "success = True\n",
      "p =  0.4077567963322679\n"
     ]
    }
   ],
   "source": [
    "# sp_800_approximate_entropy_test.py\n",
    "#\n",
    "# Copyright (C) 2017 David Johnston\n",
    "# This program is distributed under the terms of the GNU General Public License.\n",
    "#\n",
    "# This file is part of sp800_22_tests.\n",
    "#\n",
    "# sp800_22_tests is free software: you can redistribute it and/or modify\n",
    "# it under the terms of the GNU General Public License as published by\n",
    "# the Free Software Foundation, either version 3 of the License, or\n",
    "# (at your option) any later version.\n",
    "#\n",
    "# sp800_22_tests is distributed in the hope that it will be useful,\n",
    "# but WITHOUT ANY WARRANTY; without even the implied warranty of\n",
    "# MERCHANTABILITY or FITNESS FOR A PARTICULAR PURPOSE.  See the\n",
    "# GNU General Public License for more details.\n",
    "#\n",
    "# You should have received a copy of the GNU General Public License\n",
    "# along with sp800_22_tests.  If not, see <http://www.gnu.org/licenses/>.\n",
    "from __future__ import print_function\n",
    "\n",
    "import math\n",
    "from scipy.special import gamma, gammainc, gammaincc\n",
    "#from gamma_functions import *\n",
    "\n",
    "def bits_to_int(bits):\n",
    "    theint = 0\n",
    "    for i in range(len(bits)):\n",
    "        theint = (theint << 1) + bits[i]\n",
    "    return theint\n",
    "        \n",
    "def approximate_entropy_test(bits):\n",
    "    n = len(bits)\n",
    "    \n",
    "    m = int(math.floor(math.log(n,2)))-6\n",
    "    if m < 2:\n",
    "        m = 2\n",
    "    if m >3 :\n",
    "        m = 3\n",
    "        \n",
    "    print(\"  n         = \",n)\n",
    "    print(\"  m         = \",m)\n",
    "    \n",
    "    Cmi = list()\n",
    "    phi_m = list()\n",
    "    for iterm in range(m,m+2):\n",
    "        # Step 1 \n",
    "        padded_bits=bits+bits[0:iterm-1]\n",
    "    \n",
    "        # Step 2\n",
    "        counts = list()\n",
    "        for i in range(2**iterm):\n",
    "            #print \"  Pattern #%d of %d\" % (i+1,2**iterm)\n",
    "            count = 0\n",
    "            for j in range(n):\n",
    "                if bits_to_int(padded_bits[j:j+iterm]) == i:\n",
    "                    count += 1\n",
    "            counts.append(count)\n",
    "            print(\"  Pattern %d of %d, count = %d\" % (i+1,2**iterm, count))\n",
    "    \n",
    "        # step 3\n",
    "        Ci = list()\n",
    "        for i in range(2**iterm):\n",
    "            Ci.append(float(counts[i])/float(n))\n",
    "        \n",
    "        Cmi.append(Ci)\n",
    "    \n",
    "        # Step 4\n",
    "        sum = 0.0\n",
    "        for i in range(2**iterm):\n",
    "            if (Ci[i] > 0.0):\n",
    "                sum += Ci[i]*math.log((Ci[i]/10.0))\n",
    "        phi_m.append(sum)\n",
    "        print(\"  phi(%d)    = %f\" % (m,sum))\n",
    "        \n",
    "    # Step 5 - let the loop steps 1-4 complete\n",
    "    \n",
    "    # Step 6\n",
    "    appen_m = phi_m[0] - phi_m[1]\n",
    "    print(\"  AppEn(%d)  = %f\" % (m,appen_m))\n",
    "    chisq = 2*n*(math.log(2) - appen_m)\n",
    "    print(\"  ChiSquare = \",chisq)\n",
    "    # Step 7\n",
    "    p = gammaincc(2**(m-1),(chisq/2.0))\n",
    "    \n",
    "    success = (p >= 0.01)\n",
    "    return (success, p, None)\n",
    "\n",
    "if __name__ == \"__main__\":\n",
    "    bits = my_Bits\n",
    "    success, p, _ = approximate_entropy_test(bits)\n",
    "    \n",
    "    print(\"success =\",success)\n",
    "    print(\"p = \",p)\n"
   ]
  }
 ],
 "metadata": {
  "kernelspec": {
   "display_name": "Python 3.9.12 ('base')",
   "language": "python",
   "name": "python3"
  },
  "language_info": {
   "codemirror_mode": {
    "name": "ipython",
    "version": 3
   },
   "file_extension": ".py",
   "mimetype": "text/x-python",
   "name": "python",
   "nbconvert_exporter": "python",
   "pygments_lexer": "ipython3",
   "version": "3.9.12"
  },
  "vscode": {
   "interpreter": {
    "hash": "38ff507cc3fa17fc3e868c1c67480fd59b83c806e78a87926b692deed82b990e"
   }
  }
 },
 "nbformat": 4,
 "nbformat_minor": 5
}
