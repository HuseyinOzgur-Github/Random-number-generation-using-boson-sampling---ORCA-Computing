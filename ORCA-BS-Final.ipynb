{
 "cells": [
  {
   "cell_type": "code",
   "execution_count": 1,
   "id": "ce88c77a-5e5f-4766-b28c-7efd2f017ba6",
   "metadata": {},
   "outputs": [],
   "source": [
    "#%pip install strawberryfields --upgrade\n",
    "import numpy as np\n",
    "import strawberryfields as sf\n",
    "from strawberryfields.ops import *\n",
    "import matplotlib.pyplot as plt\n",
    "from strawberryfields import RemoteEngine\n",
    "import time\n"
   ]
  },
  {
   "cell_type": "code",
   "execution_count": 2,
   "id": "c6c52705-7f42-42cb-9245-8d228a7adda0",
   "metadata": {},
   "outputs": [
    {
     "name": "stdout",
     "output_type": "stream",
     "text": [
      "The execution time for Samplers is : 26.972990036010742\n"
     ]
    }
   ],
   "source": [
    "startmyBSTime = time.time()\n",
    "\n",
    "boson_sampling = sf.Program(4) \n",
    "\n",
    "with boson_sampling.context as q:\n",
    "    # prepare the input fock states\n",
    "    Fock(1) | q[0]\n",
    "    Fock(1) | q[1]\n",
    "    Fock(1) | q[2]\n",
    "    Vac     | q[3]\n",
    "    \n",
    "    # rotation gates\n",
    "    Rgate(0.5719)  | q[0]\n",
    "    Rgate(-1.9782) | q[1]\n",
    "    Rgate(2.0603)  | q[2]\n",
    "    Rgate(0.0644)  | q[3]\n",
    "\n",
    "    # beamsplitter array\n",
    "    BSgate(0.7804, 0.8578)  | (q[0], q[1])\n",
    "    BSgate(0.06406, 0.5165) | (q[2], q[3])\n",
    "    BSgate(0.473, 0.1176)   | (q[1], q[2])\n",
    "    BSgate(0.563, 0.1517)   | (q[0], q[1])\n",
    "    BSgate(0.1323, 0.9946)  | (q[2], q[3])\n",
    "    BSgate(0.311, 0.3231)   | (q[1], q[2])\n",
    "    BSgate(0.4348, 0.0798)  | (q[0], q[1])\n",
    "    BSgate(0.4368, 0.6157)  | (q[2], q[3])\n",
    "    \n",
    "eng = sf.Engine(backend=\"fock\", backend_options={\"cutoff_dim\": 7})\n",
    "#eng = sf.RemoteEngine(\"X8\", backend_options={\"cutoff_dim\": 7})\n",
    "\n",
    "# We can now execute the program with the engine:\n",
    "results = eng.run(boson_sampling, shots=400000)\n",
    "\n",
    "# extract the joint Fock probabilities\n",
    "probs = results.state.all_fock_probs()\n",
    "#probs1 = results.state\n",
    "\n",
    "#boson_sampling.compile(compiler=\"fock\").print()\n",
    "#print(probs1)\n",
    "endmyBSTime = time.time()\n",
    "myBSTime = endmyBSTime - startmyBSTime\n",
    "print(\"The execution time for Samplers is :\", myBSTime)"
   ]
  },
  {
   "cell_type": "code",
   "execution_count": 3,
   "id": "dfc26a2b-35f4-4e50-a5f0-1d1aa44aa25e",
   "metadata": {},
   "outputs": [
    {
     "data": {
      "image/png": "[encoded data removed]",
      "text/plain": [
       "<Figure size 1152x576 with 1 Axes>"
      ]
     },
     "metadata": {
      "needs_background": "light"
     },
     "output_type": "display_data"
    }
   ],
   "source": [
    "arrayOfProbs = []\n",
    "myModes = []\n",
    "myModes2 = []\n",
    "\n",
    "#find the all probs that not 0\n",
    "for i in range(0,4):\n",
    "    for j in range(0,4):\n",
    "        for k in range(0,4):\n",
    "            for l in range(0,4):\n",
    "                if probs[i, j, k, l] != 0:\n",
    "                    arrayOfProbs.append(probs[i, j, k, l])\n",
    "                    myModes.append(\"|\" + str(i) +  str(j) +  str(k) +  str(l) + \">\")\n",
    "                    #print(ket1[-1] + \":\" , probs1[i, j, k, l])\n",
    "                    myModes2.append(str(i) + str(j) + str(k) + str(l))\n",
    "\n",
    "fig = plt.figure(figsize=(16,8))                    \n",
    "plt.bar(myModes, arrayOfProbs)\n",
    "fig.autofmt_xdate()\n",
    "plt.show()"
   ]
  },
  {
   "cell_type": "code",
   "execution_count": 4,
   "id": "014d0c77-5925-47da-8b30-22d048a68013",
   "metadata": {},
   "outputs": [
    {
     "name": "stdout",
     "output_type": "stream",
     "text": [
      "The time of execution of Von-Nuemann is : 0.005001068115234375\n",
      "Total execution time is : 26.977991104125977\n"
     ]
    }
   ],
   "source": [
    "startmyVonNuemannTime = time.time()\n",
    "\n",
    "#Von-Nuemann Algorithm\n",
    "code = ''\n",
    "modes = myModes2\n",
    "for k in range(len(modes)):\n",
    "    for i in range(len(modes)):\n",
    "        #if i != (len(modes)-1):\n",
    "            #print('S1: ', (modes[k]))\n",
    "            #print('S2: ', (modes[i+1]))\n",
    "        for j in range(len(modes[k])):\n",
    "            if i == (len(modes)-1):\n",
    "                break\n",
    "            if (int(modes[k][j]) == 0) & (int(modes[i+1][j]) == 0):\n",
    "                if j == 3:\n",
    "                    code = code + (\"/\")\n",
    "                    #print('code is: ', code)\n",
    "                    break\n",
    "            elif (int(modes[k][j]) == 0) & (int(modes[i+1][j]) != 0):\n",
    "                code = code + '1'\n",
    "                if j == 3:\n",
    "                    code = code + (\"/\")\n",
    "                    #print('code is: ', code)\n",
    "                    break\n",
    "            elif (int(modes[k][j]) != 0) & (int(modes[i+1][j]) == 0):\n",
    "                code = code + '0'\n",
    "                if j == 3:\n",
    "                    code = code + (\"/\")\n",
    "                    #print('code is: ', code)\n",
    "                    break\n",
    "            elif (int(modes[k][j]) != 0) & (int(modes[i+1][j]) != 0):\n",
    "                if j == 3:\n",
    "                    code = code + (\"/\")\n",
    "                    #print('code is: ', code)\n",
    "                    break\n",
    "#print(code)\n",
    "\n",
    "endmyVonNuemannTime = time.time()\n",
    "myVonNuemannTime = endmyVonNuemannTime - startmyVonNuemannTime\n",
    "print(\"The time of execution of Von-Nuemann is :\", myVonNuemannTime)\n",
    "print(\"Total execution time is :\", myBSTime + myVonNuemannTime)\n"
   ]
  },
  {
   "cell_type": "code",
   "execution_count": 5,
   "id": "c068acae-7f3a-4ab4-b420-ce124cbc4ae6",
   "metadata": {},
   "outputs": [],
   "source": [
    "#Because we have shown the states that do not generate random numbers with / in the algorithm, we can separate them.\n",
    "cleanCode = code.split(\"/\")\n",
    "#print(cleanCode)\n",
    "\n",
    "#We count their number.\n",
    "res = {}\n",
    "for i in cleanCode:\n",
    "    res[i] = cleanCode.count(i)\n",
    "#print(res)\n",
    "\n",
    "#We remove the states without numbers.\n",
    "del res['']\n",
    "#print(res)\n"
   ]
  },
  {
   "cell_type": "code",
   "execution_count": 6,
   "id": "1b819bdf-f95e-497d-a295-1a4fac5d2395",
   "metadata": {},
   "outputs": [
    {
     "data": {
      "image/png": "[encoded data removed]",
      "text/plain": [
       "<Figure size 1152x576 with 1 Axes>"
      ]
     },
     "metadata": {
      "needs_background": "light"
     },
     "output_type": "display_data"
    }
   ],
   "source": [
    "randomNumbers = list(res.keys())\n",
    "countOfRandomNumbers = list(res.values())\n",
    "probabilities = countOfRandomNumbers\n",
    "\n",
    "#We find the probability of any random number.\n",
    "sumv = 0\n",
    "for e in range(len(countOfRandomNumbers)):\n",
    "    sumv = sumv + countOfRandomNumbers[e]\n",
    "\n",
    "for e in range(len(countOfRandomNumbers)):\n",
    "    probabilities[e] = countOfRandomNumbers[e]/sumv\n",
    "    \n",
    "    \n",
    "fig = plt.figure(figsize=(16, 8))\n",
    "plt.bar(range(len(res)), probabilities, tick_label=randomNumbers)\n",
    "fig.autofmt_xdate()\n",
    "plt.show()\n"
   ]
  }
 ],
 "metadata": {
  "kernelspec": {
   "display_name": "Python 3.9.12 ('base')",
   "language": "python",
   "name": "python3"
  },
  "language_info": {
   "codemirror_mode": {
    "name": "ipython",
    "version": 3
   },
   "file_extension": ".py",
   "mimetype": "text/x-python",
   "name": "python",
   "nbconvert_exporter": "python",
   "pygments_lexer": "ipython3",
   "version": "3.9.12"
  },
  "vscode": {
   "interpreter": {
    "hash": "38ff507cc3fa17fc3e868c1c67480fd59b83c806e78a87926b692deed82b990e"
   }
  }
 },
 "nbformat": 4,
 "nbformat_minor": 5
}
