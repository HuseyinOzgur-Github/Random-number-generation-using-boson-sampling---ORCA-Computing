{
 "cells": [
  {
   "cell_type": "code",
   "execution_count": 1,
   "id": "ce88c77a-5e5f-4766-b28c-7efd2f017ba6",
   "metadata": {},
   "outputs": [],
   "source": [
    "import numpy as np\n",
    "import strawberryfields as sf\n",
    "from strawberryfields.ops import *\n",
    "import matplotlib.pyplot as plt\n",
    "import time"
   ]
  },
  {
   "cell_type": "code",
   "execution_count": 2,
   "id": "c6c52705-7f42-42cb-9245-8d228a7adda0",
   "metadata": {},
   "outputs": [
    {
     "name": "stdout",
     "output_type": "stream",
     "text": [
      "The execution time for Samplers is : 25.257760524749756\n"
     ]
    }
   ],
   "source": [
    "start = time.time()\n",
    "#np.random.seed(69)\n",
    "boson_sampling1 = sf.Program(4) \n",
    "\n",
    "with boson_sampling1.context as q:\n",
    "    # prepare the input fock states\n",
    "    Fock(1) | q[0]\n",
    "    Fock(1) | q[1]\n",
    "    Fock(1) | q[2]\n",
    "    Vac     | q[3]\n",
    "\n",
    "    # rotation gates\n",
    "    Rgate(0.5719)  | q[0]\n",
    "    Rgate(-1.9782) | q[1]\n",
    "    Rgate(2.0603)  | q[2]\n",
    "    Rgate(0.0644)  | q[3]\n",
    "\n",
    "    # beamsplitter array\n",
    "    BSgate(0.7804, 0.8578)  | (q[0], q[1])\n",
    "    BSgate(0.06406, 0.5165) | (q[2], q[3])\n",
    "    BSgate(0.473, 0.1176)   | (q[1], q[2])\n",
    "    BSgate(0.563, 0.1517)   | (q[0], q[1])\n",
    "    BSgate(0.1323, 0.9946)  | (q[2], q[3])\n",
    "    BSgate(0.311, 0.3231)   | (q[1], q[2])\n",
    "    BSgate(0.4348, 0.0798)  | (q[0], q[1])\n",
    "    BSgate(0.4368, 0.6157)  | (q[2], q[3])\n",
    "\n",
    "eng1 = sf.Engine(backend=\"fock\", backend_options={\"cutoff_dim\": 7})\n",
    "\n",
    "# We can now execute the program with the engine:\n",
    "results1 = eng1.run(boson_sampling1, shots=400000)\n",
    "\n",
    "# extract the joint Fock probabilities\n",
    "probs1 = results1.state.all_fock_probs()\n",
    "end = time.time()\n",
    "#boson_sampling1.compile(compiler=\"fock\").print()\n",
    "time1=end-start\n",
    "print(\"The execution time for Samplers is :\", time1)"
   ]
  },
  {
   "cell_type": "code",
   "execution_count": 3,
   "id": "dfc26a2b-35f4-4e50-a5f0-1d1aa44aa25e",
   "metadata": {},
   "outputs": [
    {
     "data": {
      "image/png": "[encoded data removed]",
      "text/plain": [
       "<Figure size 576x288 with 1 Axes>"
      ]
     },
     "metadata": {
      "needs_background": "light"
     },
     "output_type": "display_data"
    }
   ],
   "source": [
    "\n",
    "probs1_arr = []\n",
    "state1 = []\n",
    "ket1 = []\n",
    "ket2 = []\n",
    "\n",
    "for i in range(0,4):\n",
    "    for j in range(0,4):\n",
    "        for k in range(0,4):\n",
    "            for l in range(0,4):\n",
    "                if probs1[i, j, k, l] != 0:\n",
    "                    probs1_arr.append(probs1[i, j, k, l])\n",
    "                    state1.append([i,j,k,l])\n",
    "                    ket1.append(\"|\" + str(i) +  str(j) +  str(k) +  str(l) + \">\")\n",
    "                    ket2.append(str(i) +  str(j) +  str(k) +  str(l))\n",
    "                    #print(ket1[-1] + \":\" , probs1[i, j, k, l])\n",
    "\n",
    "fig = plt.figure(figsize=(8,4))                    \n",
    "plt.bar(ket1, probs1_arr)\n",
    "fig.autofmt_xdate()\n",
    "plt.show()\n"
   ]
  },
  {
   "cell_type": "code",
   "execution_count": 4,
   "id": "014d0c77-5925-47da-8b30-22d048a68013",
   "metadata": {},
   "outputs": [
    {
     "name": "stdout",
     "output_type": "stream",
     "text": [
      "The time of execution of Von-Nuemann is : 0.000997781753540039\n",
      "Total execution time is : 25.258758306503296\n"
     ]
    }
   ],
   "source": [
    "start = time.time()\n",
    "coding = ''\n",
    "for i in range(len(ket2)):\n",
    "    for j in range(len(ket2[0])):\n",
    "        if i == 19: break\n",
    "        if (int(ket2[i][j]) == 0) & (int(ket2[i+1][j]) == 0):\n",
    "            if j == 3:\n",
    "                coding = coding + (\"/\")\n",
    "                break\n",
    "        elif (int(ket2[i][j]) == 0) & (int(ket2[i+1][j]) != 0):\n",
    "            coding = coding + '1'\n",
    "            if j == 3:\n",
    "                coding = coding + (\"/\")\n",
    "                break\n",
    "        elif (int(ket2[i][j]) != 0) & (int(ket2[i+1][j]) == 0):\n",
    "            coding = coding + '0'\n",
    "            if j == 3:\n",
    "                coding = coding + (\"/\")\n",
    "                break\n",
    "        elif (int(ket2[i][j]) != 0) & (int(ket2[i+1][j]) != 0):\n",
    "            if j == 3:\n",
    "                coding = coding + (\"/\")\n",
    "                break\n",
    "#print(coding)\n",
    "end = time.time()\n",
    "time2=end-start\n",
    "print(\"The time of execution of Von-Nuemann is :\", time2)\n",
    "\n",
    "print(\"Total execution time is :\",time1+time2 )"
   ]
  },
  {
   "cell_type": "code",
   "execution_count": 5,
   "id": "c068acae-7f3a-4ab4-b420-ce124cbc4ae6",
   "metadata": {},
   "outputs": [],
   "source": [
    "ccoding = coding.split(\"/\")"
   ]
  },
  {
   "cell_type": "code",
   "execution_count": 9,
   "id": "5d756cc6-1b68-4d3b-bd20-ecb30e75c444",
   "metadata": {},
   "outputs": [
    {
     "name": "stdout",
     "output_type": "stream",
     "text": [
      "{'1': 3, '': 2, '0': 6, '101': 3, '01': 2, '10': 4}\n"
     ]
    }
   ],
   "source": [
    "res = {}\n",
    "for i in ccoding:\n",
    "    res[i] = ccoding.count(i)\n",
    "print(res)"
   ]
  },
  {
   "cell_type": "code",
   "execution_count": 10,
   "id": "28dc19b9-58ed-4f40-abfa-8ff8c5ccf1b3",
   "metadata": {},
   "outputs": [],
   "source": [
    "del res['']\n",
    "#print(res)"
   ]
  },
  {
   "cell_type": "code",
   "execution_count": 11,
   "id": "1b819bdf-f95e-497d-a295-1a4fac5d2395",
   "metadata": {},
   "outputs": [
    {
     "data": {
      "image/png": "[encoded data removed]",
      "text/plain": [
       "<Figure size 432x288 with 1 Axes>"
      ]
     },
     "metadata": {
      "needs_background": "light"
     },
     "output_type": "display_data"
    }
   ],
   "source": [
    "names = list(res.keys())\n",
    "values = list(res.values())\n",
    "sumv = 0\n",
    "for elem in range(len(values)):\n",
    "    sumv = sumv + values[elem]\n",
    "for elem in range(len(values)):\n",
    "    values[elem] = values[elem]/sumv\n",
    "#print(values)\n",
    "plt.bar(range(len(res)), values, tick_label=names)\n",
    "plt.show()"
   ]
  }
 ],
 "metadata": {
  "kernelspec": {
   "display_name": "Python 3 (ipykernel)",
   "language": "python",
   "name": "python3"
  },
  "language_info": {
   "codemirror_mode": {
    "name": "ipython",
    "version": 3
   },
   "file_extension": ".py",
   "mimetype": "text/x-python",
   "name": "python",
   "nbconvert_exporter": "python",
   "pygments_lexer": "ipython3",
   "version": "3.9.12"
  }
 },
 "nbformat": 4,
 "nbformat_minor": 5
}
